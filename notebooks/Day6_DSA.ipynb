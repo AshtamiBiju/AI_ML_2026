{
 "cells": [
  {
   "cell_type": "code",
   "execution_count": 1,
   "id": "b6ecb18c-dd8c-439a-b471-5db51e33cb76",
   "metadata": {},
   "outputs": [],
   "source": [
    "#Find the index of the first Occurence in a string\n",
    "class Solution(object):\n",
    "    def strStr(self, haystack, needle):\n",
    "        if needle in haystack:\n",
    "            a=haystack.find(needle)\n",
    "            return a\n",
    "        else:\n",
    "            return -1"
   ]
  },
  {
   "cell_type": "code",
   "execution_count": null,
   "id": "5ac26a6b-88ef-4699-85ed-3442ee1666ee",
   "metadata": {},
   "outputs": [],
   "source": [
    "#Search Insert Position\n",
    "class Solution(object):\n",
    "    def searchInsert(self, nums, target):\n",
    "        l=len(nums)\n",
    "        l1=l-1\n",
    "        if target in nums:\n",
    "            a= nums.index(target)\n",
    "            return a\n",
    "        else:\n",
    "            c=0\n",
    "            d=0\n",
    "            for i in nums:\n",
    "                if i<target:\n",
    "                    c=nums.index(i)\n",
    "                    d=c+1\n",
    "                    if i<target and nums.index(i)==3:\n",
    "                        d=4\n",
    "                        if i>target and nums.index(i)==0:\n",
    "                            d=0\n",
    "            return d"
   ]
  }
 ],
 "metadata": {
  "kernelspec": {
   "display_name": "Python 3 (ipykernel)",
   "language": "python",
   "name": "python3"
  },
  "language_info": {
   "codemirror_mode": {
    "name": "ipython",
    "version": 3
   },
   "file_extension": ".py",
   "mimetype": "text/x-python",
   "name": "python",
   "nbconvert_exporter": "python",
   "pygments_lexer": "ipython3",
   "version": "3.10.10"
  }
 },
 "nbformat": 4,
 "nbformat_minor": 5
}
