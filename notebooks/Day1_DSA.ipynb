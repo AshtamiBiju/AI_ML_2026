{
 "cells": [
  {
   "cell_type": "code",
   "execution_count": 1,
   "id": "2dbbc9e7-d3a5-495f-bd37-65d1cf6d5104",
   "metadata": {},
   "outputs": [],
   "source": [
    "# Two Sum Problem\n",
    "#Given an array 'nums' and a target integer, return indices of the two numbers that add up to the target."
   ]
  },
  {
   "cell_type": "code",
   "execution_count": 2,
   "id": "10674e9c-f497-4f07-80a1-9c4bc8d37b91",
   "metadata": {},
   "outputs": [],
   "source": [
    "def sum_arr(nums,target):\n",
    "    hashmap={}\n",
    "    for i,num in enumerate(nums):\n",
    "        comp=target-num\n",
    "        if comp in hashmap:\n",
    "            return[hashmap[comp],i]\n",
    "        hashmap[num]=i\n",
    "    return[]"
   ]
  },
  {
   "cell_type": "code",
   "execution_count": 3,
   "id": "ea83c540-05f6-4c9d-889a-160370972c2e",
   "metadata": {},
   "outputs": [
    {
     "data": {
      "text/plain": [
       "[1, 2]"
      ]
     },
     "execution_count": 3,
     "metadata": {},
     "output_type": "execute_result"
    }
   ],
   "source": [
    "a=[1,2,3,4,5,6,7,8,9,10]\n",
    "b=5\n",
    "sum_arr(a,b)"
   ]
  }
 ],
 "metadata": {
  "kernelspec": {
   "display_name": "Python 3 (ipykernel)",
   "language": "python",
   "name": "python3"
  },
  "language_info": {
   "codemirror_mode": {
    "name": "ipython",
    "version": 3
   },
   "file_extension": ".py",
   "mimetype": "text/x-python",
   "name": "python",
   "nbconvert_exporter": "python",
   "pygments_lexer": "ipython3",
   "version": "3.10.10"
  }
 },
 "nbformat": 4,
 "nbformat_minor": 5
}
