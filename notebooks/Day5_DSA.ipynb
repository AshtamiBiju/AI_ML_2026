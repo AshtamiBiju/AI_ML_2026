{
 "cells": [
  {
   "cell_type": "code",
   "execution_count": 1,
   "id": "6d9d622e-993e-45f5-bf8e-58a689c67ff8",
   "metadata": {},
   "outputs": [],
   "source": [
    "#Valid Anagram\n",
    "class Solution(object):\n",
    "    def isAnagram(self, s, t):\n",
    "        count=0\n",
    "        a=0\n",
    "        coun=0\n",
    "        l1=[]\n",
    "        l=[]\n",
    "        b=len(s)\n",
    "        c=len(t)\n",
    "        for i in s:\n",
    "            l.append(i)\n",
    "            count+=1\n",
    "        for i in t:\n",
    "            l1.append(i)\n",
    "            coun+=1\n",
    "        for i in l[:]:\n",
    "            if i in l1:\n",
    "                a=a+1\n",
    "                l1.remove(i)\n",
    "            else:\n",
    "                l.remove(i)\n",
    "        if(a==c) and (count==coun):\n",
    "            return True\n",
    "        else:\n",
    "            return False\n"
   ]
  },
  {
   "cell_type": "code",
   "execution_count": 2,
   "id": "b912e2ba-3989-4ef5-be72-b54006303986",
   "metadata": {},
   "outputs": [],
   "source": [
    "#Reverse String Problem\n",
    "class Solution(object):\n",
    "    def reverseString(self, s):\n",
    "        a=s.reverse()\n",
    "        return a"
   ]
  },
  {
   "cell_type": "code",
   "execution_count": 3,
   "id": "69b05007-fcf1-497b-b0ee-946a79b54953",
   "metadata": {},
   "outputs": [],
   "source": [
    "#Remove Element problem\n",
    "class Solution(object):\n",
    "    def removeElement(self, nums, val):\n",
    "        count=0\n",
    "        for i in nums[:]:\n",
    "            if i==val:\n",
    "                nums.remove(i)\n",
    "        for i in nums:\n",
    "            count+=1\n",
    "        return count"
   ]
  }
 ],
 "metadata": {
  "kernelspec": {
   "display_name": "Python 3 (ipykernel)",
   "language": "python",
   "name": "python3"
  },
  "language_info": {
   "codemirror_mode": {
    "name": "ipython",
    "version": 3
   },
   "file_extension": ".py",
   "mimetype": "text/x-python",
   "name": "python",
   "nbconvert_exporter": "python",
   "pygments_lexer": "ipython3",
   "version": "3.10.10"
  }
 },
 "nbformat": 4,
 "nbformat_minor": 5
}
