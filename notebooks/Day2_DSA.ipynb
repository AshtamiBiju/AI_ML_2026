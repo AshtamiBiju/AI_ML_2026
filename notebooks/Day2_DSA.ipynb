{
 "cells": [
  {
   "cell_type": "code",
   "execution_count": 1,
   "id": "3a8cbb7b-2b1a-476e-9655-1c9853c1e893",
   "metadata": {},
   "outputs": [],
   "source": [
    "#Best time to buy and sell stock\n",
    "class Solution(object):\n",
    "    def maxProfit(self, prices):\n",
    "        min_price = float('inf')   # Start with infinity\n",
    "        max_profit = 0             # No profit initially\n",
    "\n",
    "        for price in prices:\n",
    "            # Update minimum price if we find a lower one\n",
    "            if price < min_price:\n",
    "                min_price = price\n",
    "            # Calculate profit if sold today\n",
    "            elif price - min_price > max_profit:\n",
    "                max_profit = price - min_price\n",
    "        \n",
    "        return max_profit"
   ]
  }
 ],
 "metadata": {
  "kernelspec": {
   "display_name": "Python 3 (ipykernel)",
   "language": "python",
   "name": "python3"
  },
  "language_info": {
   "codemirror_mode": {
    "name": "ipython",
    "version": 3
   },
   "file_extension": ".py",
   "mimetype": "text/x-python",
   "name": "python",
   "nbconvert_exporter": "python",
   "pygments_lexer": "ipython3",
   "version": "3.10.10"
  }
 },
 "nbformat": 4,
 "nbformat_minor": 5
}
