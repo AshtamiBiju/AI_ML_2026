class Solution(object):
    def removeDuplicates(self, nums):
        k=0
        l=[]
        for i in nums[:]:
            if i in l:
                nums.remove(i)
            else:
                l.append(i)
        for i in nums:
            k+=1
        return k
