{
 "cells": [
  {
   "cell_type": "code",
   "execution_count": 1,
   "id": "e5c890cc-3931-409c-af8d-b87f5d72afac",
   "metadata": {},
   "outputs": [],
   "source": [
    "class Solution(object):\n",
    "    def isPalindrome(self, x):\n",
    "        b=str(x)\n",
    "        a=b[::-1]\n",
    "        if(x<0):\n",
    "            return False\n",
    "        elif(a!=b):\n",
    "            return False\n",
    "        elif(a==b):\n",
    "            return True"
   ]
  }
 ],
 "metadata": {
  "kernelspec": {
   "display_name": "Python 3 (ipykernel)",
   "language": "python",
   "name": "python3"
  },
  "language_info": {
   "codemirror_mode": {
    "name": "ipython",
    "version": 3
   },
   "file_extension": ".py",
   "mimetype": "text/x-python",
   "name": "python",
   "nbconvert_exporter": "python",
   "pygments_lexer": "ipython3",
   "version": "3.10.10"
  }
 },
 "nbformat": 4,
 "nbformat_minor": 5
}
