{
 "cells": [
  {
   "cell_type": "code",
   "execution_count": null,
   "id": "e5c890cc-3931-409c-af8d-b87f5d72afac",
   "metadata": {},
   "outputs": [],
   "source": []
  }
 ],
 "metadata": {
  "kernelspec": {
   "display_name": "",
   "name": ""
  },
  "language_info": {
   "name": ""
  }
 },
 "nbformat": 4,
 "nbformat_minor": 5
}
