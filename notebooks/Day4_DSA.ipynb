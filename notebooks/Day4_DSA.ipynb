{
 "cells": [
  {
   "cell_type": "code",
   "execution_count": 1,
   "id": "08bccba1-11ae-41f6-b71f-8f71f09db8ed",
   "metadata": {},
   "outputs": [],
   "source": [
    "#Remove dupliccates from a list\n",
    "class Solution(object):\n",
    "    def removeDuplicates(self, nums):\n",
    "        k=0\n",
    "        l=[]\n",
    "        for i in nums[:]:\n",
    "            if i in l:\n",
    "                nums.remove(i)\n",
    "            else:\n",
    "                l.append(i)\n",
    "        for i in nums:\n",
    "            k+=1\n",
    "        return k"
   ]
  }
 ],
 "metadata": {
  "kernelspec": {
   "display_name": "Python 3 (ipykernel)",
   "language": "python",
   "name": "python3"
  },
  "language_info": {
   "codemirror_mode": {
    "name": "ipython",
    "version": 3
   },
   "file_extension": ".py",
   "mimetype": "text/x-python",
   "name": "python",
   "nbconvert_exporter": "python",
   "pygments_lexer": "ipython3",
   "version": "3.10.10"
  }
 },
 "nbformat": 4,
 "nbformat_minor": 5
}
