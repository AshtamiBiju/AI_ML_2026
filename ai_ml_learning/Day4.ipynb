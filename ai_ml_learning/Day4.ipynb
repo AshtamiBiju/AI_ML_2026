{
 "cells": [
  {
   "cell_type": "code",
   "execution_count": 1,
   "id": "d22f2819-2e67-4e6d-ac9c-81926b715a58",
   "metadata": {},
   "outputs": [
    {
     "name": "stdout",
     "output_type": "stream",
     "text": [
      "Predictions: [ 5.42857143 20.        ]\n",
      "MSE (How near results are to actual): 13.520408163265307\n",
      "Slope (Coefficient): [[4.85714286]]\n",
      "Intercept: [-4.28571429]\n",
      "R score: 0.8773659123513351\n"
     ]
    }
   ],
   "source": [
    "import numpy as np\n",
    "import pandas as pd\n",
    "from sklearn.model_selection import train_test_split\n",
    "from sklearn.linear_model import LinearRegression\n",
    "from sklearn.metrics import mean_squared_error\n",
    "\n",
    "# Data\n",
    "x = np.array([1, 2, 3, 4, 5]).reshape(-1, 1)   # Reshape needed for sklearn\n",
    "y = np.array([1, 4, 9, 16, 25]).reshape(-1, 1)\n",
    "\n",
    "# Train-test split\n",
    "x_train, x_test, y_train, y_test = train_test_split(x, y, test_size=0.4, random_state=42)\n",
    "\n",
    "# Model\n",
    "model = LinearRegression()\n",
    "model.fit(x_train, y_train)\n",
    "\n",
    "# Predictions\n",
    "y_pred = model.predict(x_test)\n",
    "\n",
    "# Results\n",
    "print(\"Predictions:\", y_pred.flatten())\n",
    "print(\"MSE (How near results are to actual):\", mean_squared_error(y_test, y_pred))\n",
    "\n",
    "from sklearn.metrics import r2_score\n",
    "print(\"Slope (Coefficient):\",model.coef_)\n",
    "print(\"Intercept:\",model.intercept_)\n",
    "print(\"R score:\",r2_score(y_test, y_pred))"
   ]
  }
 ],
 "metadata": {
  "kernelspec": {
   "display_name": "Python 3 (ipykernel)",
   "language": "python",
   "name": "python3"
  },
  "language_info": {
   "codemirror_mode": {
    "name": "ipython",
    "version": 3
   },
   "file_extension": ".py",
   "mimetype": "text/x-python",
   "name": "python",
   "nbconvert_exporter": "python",
   "pygments_lexer": "ipython3",
   "version": "3.10.10"
  }
 },
 "nbformat": 4,
 "nbformat_minor": 5
}
