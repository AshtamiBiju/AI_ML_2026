{
 "cells": [
  {
   "cell_type": "code",
   "execution_count": null,
   "id": "733cd7e1-8d22-4117-b6be-fdaac5604f9c",
   "metadata": {},
   "outputs": [],
   "source": [
    "import sqlite3\n",
    "import pandas as pd\n",
    "\n",
    "# Create in-memory database\n",
    "conn = sqlite3.connect(\":memory:\")\n",
    "cursor = conn.cursor()\n",
    "\n",
    "# Create students table\n",
    "cursor.execute(\"\"\"\n",
    "CREATE TABLE students (\n",
    "    id INTEGER PRIMARY KEY,\n",
    "    name TEXT,\n",
    "    age INTEGER,\n",
    "    marks INTEGER,\n",
    "    course TEXT\n",
    ")\n",
    "\"\"\")\n",
    "\n",
    "# Insert sample data\n",
    "cursor.executemany(\"\"\"\n",
    "INSERT INTO students (name, age, marks, course)\n",
    "VALUES (?, ?, ?, ?)\n",
    "\"\"\", [\n",
    "    (\"Alice\", 20, 85, \"Math\"),\n",
    "    (\"Bob\", 17, 75, \"Science\"),\n",
    "    (\"Charlie\", 19, 92, \"Math\"),\n",
    "    (\"David\", 21, 85, \"History\"),\n",
    "    (\"Eve\", 20, 75, \"Science\"),\n",
    "    (\"Frank\", 22, 92, \"Math\")\n",
    "])\n",
    "conn.commit()\n",
    "\n",
    "# 1. Select all records\n",
    "print(\"All Students:\")\n",
    "print(pd.read_sql_query(\"SELECT * FROM students\", conn), \"\\n\")\n",
    "\n",
    "# 2. Select students with age > 18 ordered by marks ASC\n",
    "print(\"Students with age > 18 ordered by marks:\")\n",
    "print(pd.read_sql_query(\"SELECT * FROM students WHERE age > 18 ORDER BY marks ASC\", conn), \"\\n\")\n",
    "\n",
    "# 3. Select distinct courses\n",
    "print(\"Unique Courses:\")\n",
    "print(pd.read_sql_query(\"SELECT DISTINCT course FROM students\", conn), \"\\n\")\n",
    "\n",
    "conn.close()\n"
   ]
  }
 ],
 "metadata": {
  "kernelspec": {
   "display_name": "Python 3 (ipykernel)",
   "language": "python",
   "name": "python3"
  },
  "language_info": {
   "codemirror_mode": {
    "name": "ipython",
    "version": 3
   },
   "file_extension": ".py",
   "mimetype": "text/x-python",
   "name": "python",
   "nbconvert_exporter": "python",
   "pygments_lexer": "ipython3",
   "version": "3.10.10"
  }
 },
 "nbformat": 4,
 "nbformat_minor": 5
}
