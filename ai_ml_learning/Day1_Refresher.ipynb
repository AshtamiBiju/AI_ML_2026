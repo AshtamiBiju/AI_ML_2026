{
 "cells": [
  {
   "cell_type": "code",
   "execution_count": 1,
   "id": "da39e09a-a4f6-48cf-ae0d-7f9237b2c7b6",
   "metadata": {},
   "outputs": [],
   "source": [
    "import numpy as np"
   ]
  },
  {
   "cell_type": "code",
   "execution_count": 2,
   "id": "6487ba71-06f6-48f6-ab32-3b887fedc89c",
   "metadata": {},
   "outputs": [
    {
     "name": "stdout",
     "output_type": "stream",
     "text": [
      "Array: [1 2 3 4 5]\n",
      "\n",
      "Zeros:\n",
      " [[0. 0. 0.]\n",
      " [0. 0. 0.]]\n",
      "\n",
      "Ones\n",
      ": [[1. 1.]\n",
      " [1. 1.]]\n",
      "\n",
      "Arange: [0 2 4 6 8]\n"
     ]
    }
   ],
   "source": [
    "arr=np.array([1,2,3,4,5])\n",
    "print(\"Array:\",arr)\n",
    "print()\n",
    "\n",
    "zeros=np.zeros((2,3))\n",
    "ones=np.ones((2,2))\n",
    "arange_arr=np.arange(0,10,2)\n",
    "print(\"Zeros:\\n\",zeros)\n",
    "print()\n",
    "print(\"Ones\\n:\",ones)\n",
    "print()\n",
    "print(\"Arange:\",arange_arr)"
   ]
  },
  {
   "cell_type": "code",
   "execution_count": 3,
   "id": "445a926f-b6ec-4ea4-8de1-38a85bb7a47f",
   "metadata": {},
   "outputs": [
    {
     "name": "stdout",
     "output_type": "stream",
     "text": [
      "arr[::2] (every 2nd element):  [1 3 5]\n"
     ]
    }
   ],
   "source": [
    "print(\"arr[::2] (every 2nd element): \",arr[::2])"
   ]
  },
  {
   "cell_type": "code",
   "execution_count": 4,
   "id": "817d4ac8-ef16-43b8-9510-5444b2e026a2",
   "metadata": {},
   "outputs": [
    {
     "name": "stdout",
     "output_type": "stream",
     "text": [
      "Matrix:\n",
      " [[10 20 30]\n",
      " [40 50 60]\n",
      " [70 80 90]]\n"
     ]
    }
   ],
   "source": [
    "mat=np.array([[10,20,30],\n",
    "               [40,50,60],\n",
    "               [70,80,90]])\n",
    "print(\"Matrix:\\n\",mat)"
   ]
  },
  {
   "cell_type": "code",
   "execution_count": 5,
   "id": "b3d3f43a-c557-4471-b6c0-7889fb1efd79",
   "metadata": {},
   "outputs": [
    {
     "name": "stdout",
     "output_type": "stream",
     "text": [
      "Second Column:\n",
      " [20 50 80]\n",
      "\n",
      "FirstRow:\n",
      " [10 20 30]\n"
     ]
    }
   ],
   "source": [
    "print(\"Second Column:\\n\",mat[:,1])\n",
    "print()\n",
    "print(\"FirstRow:\\n\",mat[0,:])"
   ]
  },
  {
   "cell_type": "code",
   "execution_count": 6,
   "id": "d05b481e-f416-4866-a4ba-95b7a8021984",
   "metadata": {},
   "outputs": [
    {
     "name": "stdout",
     "output_type": "stream",
     "text": [
      "arr1 + arr2 = [11 22 33 44]\n",
      "arr1 * arr2 = [ 10  40  90 160]\n",
      "arr1 * 5 = [ 5 10 15 20]\n",
      "arr2 - arr1 = [ 9 18 27 36]\n"
     ]
    }
   ],
   "source": [
    "arr1 = np.array([1, 2, 3, 4])\n",
    "arr2 = np.array([10, 20, 30, 40])\n",
    "print(\"arr1 + arr2 =\", arr1 + arr2)\n",
    "print(\"arr1 * arr2 =\", arr1 * arr2)\n",
    "print(\"arr1 * 5 =\", arr1 * 5)\n",
    "print(\"arr2 - arr1 =\", arr2 - arr1)"
   ]
  },
  {
   "cell_type": "code",
   "execution_count": null,
   "id": "1aa4e51b-c4ce-44cf-8db0-1a7889668b60",
   "metadata": {},
   "outputs": [],
   "source": []
  }
 ],
 "metadata": {
  "kernelspec": {
   "display_name": "Python 3 (ipykernel)",
   "language": "python",
   "name": "python3"
  },
  "language_info": {
   "codemirror_mode": {
    "name": "ipython",
    "version": 3
   },
   "file_extension": ".py",
   "mimetype": "text/x-python",
   "name": "python",
   "nbconvert_exporter": "python",
   "pygments_lexer": "ipython3",
   "version": "3.10.10"
  }
 },
 "nbformat": 4,
 "nbformat_minor": 5
}
