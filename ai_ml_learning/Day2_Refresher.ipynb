{
 "cells": [
  {
   "cell_type": "code",
   "execution_count": 1,
   "id": "ca54dee9-62b1-48c2-b072-b2229bf41a04",
   "metadata": {},
   "outputs": [
    {
     "name": "stdout",
     "output_type": "stream",
     "text": [
      "Collecting matplotlib\n",
      "  Using cached matplotlib-3.10.5-cp310-cp310-win_amd64.whl.metadata (11 kB)\n",
      "Collecting contourpy>=1.0.1 (from matplotlib)\n",
      "  Using cached contourpy-1.3.2-cp310-cp310-win_amd64.whl.metadata (5.5 kB)\n",
      "Collecting cycler>=0.10 (from matplotlib)\n",
      "  Using cached cycler-0.12.1-py3-none-any.whl.metadata (3.8 kB)\n",
      "Requirement already satisfied: fonttools>=4.22.0 in c:\\users\\ashta\\appdata\\local\\programs\\python\\python310\\lib\\site-packages (from matplotlib) (4.59.1)\n",
      "Requirement already satisfied: kiwisolver>=1.3.1 in c:\\users\\ashta\\appdata\\local\\programs\\python\\python310\\lib\\site-packages (from matplotlib) (1.4.9)\n",
      "Requirement already satisfied: numpy>=1.23 in c:\\users\\ashta\\appdata\\local\\programs\\python\\python310\\lib\\site-packages (from matplotlib) (2.1.3)\n",
      "Requirement already satisfied: packaging>=20.0 in c:\\users\\ashta\\appdata\\local\\programs\\python\\python310\\lib\\site-packages (from matplotlib) (25.0)\n",
      "Requirement already satisfied: pillow>=8 in c:\\users\\ashta\\appdata\\local\\programs\\python\\python310\\lib\\site-packages (from matplotlib) (11.3.0)\n",
      "Requirement already satisfied: pyparsing>=2.3.1 in c:\\users\\ashta\\appdata\\local\\programs\\python\\python310\\lib\\site-packages (from matplotlib) (3.2.3)\n",
      "Requirement already satisfied: python-dateutil>=2.7 in c:\\users\\ashta\\appdata\\local\\programs\\python\\python310\\lib\\site-packages (from matplotlib) (2.9.0.post0)\n",
      "Requirement already satisfied: six>=1.5 in c:\\users\\ashta\\appdata\\local\\programs\\python\\python310\\lib\\site-packages (from python-dateutil>=2.7->matplotlib) (1.17.0)\n",
      "Using cached matplotlib-3.10.5-cp310-cp310-win_amd64.whl (8.1 MB)\n",
      "Using cached contourpy-1.3.2-cp310-cp310-win_amd64.whl (221 kB)\n",
      "Using cached cycler-0.12.1-py3-none-any.whl (8.3 kB)\n",
      "Installing collected packages: cycler, contourpy, matplotlib\n",
      "\n",
      "   ------------- -------------------------- 1/3 [contourpy]\n",
      "   ------------- -------------------------- 1/3 [contourpy]\n",
      "   -------------------------- ------------- 2/3 [matplotlib]\n",
      "   -------------------------- ------------- 2/3 [matplotlib]\n",
      "   -------------------------- ------------- 2/3 [matplotlib]\n",
      "   -------------------------- ------------- 2/3 [matplotlib]\n",
      "   -------------------------- ------------- 2/3 [matplotlib]\n",
      "   -------------------------- ------------- 2/3 [matplotlib]\n",
      "   -------------------------- ------------- 2/3 [matplotlib]\n",
      "   -------------------------- ------------- 2/3 [matplotlib]\n",
      "   -------------------------- ------------- 2/3 [matplotlib]\n",
      "   -------------------------- ------------- 2/3 [matplotlib]\n",
      "   -------------------------- ------------- 2/3 [matplotlib]\n",
      "   -------------------------- ------------- 2/3 [matplotlib]\n",
      "   -------------------------- ------------- 2/3 [matplotlib]\n",
      "   -------------------------- ------------- 2/3 [matplotlib]\n",
      "   -------------------------- ------------- 2/3 [matplotlib]\n",
      "   -------------------------- ------------- 2/3 [matplotlib]\n",
      "   -------------------------- ------------- 2/3 [matplotlib]\n",
      "   -------------------------- ------------- 2/3 [matplotlib]\n",
      "   -------------------------- ------------- 2/3 [matplotlib]\n",
      "   -------------------------- ------------- 2/3 [matplotlib]\n",
      "   -------------------------- ------------- 2/3 [matplotlib]\n",
      "   -------------------------- ------------- 2/3 [matplotlib]\n",
      "   -------------------------- ------------- 2/3 [matplotlib]\n",
      "   -------------------------- ------------- 2/3 [matplotlib]\n",
      "   -------------------------- ------------- 2/3 [matplotlib]\n",
      "   -------------------------- ------------- 2/3 [matplotlib]\n",
      "   -------------------------- ------------- 2/3 [matplotlib]\n",
      "   -------------------------- ------------- 2/3 [matplotlib]\n",
      "   -------------------------- ------------- 2/3 [matplotlib]\n",
      "   -------------------------- ------------- 2/3 [matplotlib]\n",
      "   -------------------------- ------------- 2/3 [matplotlib]\n",
      "   -------------------------- ------------- 2/3 [matplotlib]\n",
      "   -------------------------- ------------- 2/3 [matplotlib]\n",
      "   -------------------------- ------------- 2/3 [matplotlib]\n",
      "   -------------------------- ------------- 2/3 [matplotlib]\n",
      "   -------------------------- ------------- 2/3 [matplotlib]\n",
      "   ---------------------------------------- 3/3 [matplotlib]\n",
      "\n",
      "Successfully installed contourpy-1.3.2 cycler-0.12.1 matplotlib-3.10.5\n"
     ]
    }
   ],
   "source": [
    "!pip install matplotlib"
   ]
  },
  {
   "cell_type": "code",
   "execution_count": null,
   "id": "8cc50c79-c531-47b7-abe3-beeb50cec613",
   "metadata": {},
   "outputs": [],
   "source": []
  },
  {
   "cell_type": "code",
   "execution_count": 2,
   "id": "2d4f25d1-6ea8-42c2-b273-c8933d88accb",
   "metadata": {},
   "outputs": [
    {
     "name": "stdout",
     "output_type": "stream",
     "text": [
      "2.5\n",
      "[[1 2]\n",
      " [3 4]]\n",
      "[0 2 4 6 8]\n"
     ]
    }
   ],
   "source": [
    "import numpy as np\n",
    "\n",
    "arr = np.array([1, 2, 3, 4])\n",
    "print(arr.mean())       # Mean\n",
    "print(arr.reshape(2,2)) # Reshape\n",
    "print(np.arange(0,10,2)) # Range array\n"
   ]
  },
  {
   "cell_type": "code",
   "execution_count": 3,
   "id": "3a482376-8a37-4162-b817-8d3ff78b6e2d",
   "metadata": {},
   "outputs": [
    {
     "name": "stdout",
     "output_type": "stream",
     "text": [
      "    Name  Age\n",
      "0  Alice   25\n",
      "1    Bob   30\n",
      "27.5\n",
      "             Age\n",
      "count   2.000000\n",
      "mean   27.500000\n",
      "std     3.535534\n",
      "min    25.000000\n",
      "25%    26.250000\n",
      "50%    27.500000\n",
      "75%    28.750000\n",
      "max    30.000000\n"
     ]
    }
   ],
   "source": [
    "import pandas as pd\n",
    "\n",
    "data = {\"Name\": [\"Alice\", \"Bob\"], \"Age\": [25, 30]}\n",
    "df = pd.DataFrame(data)\n",
    "\n",
    "print(df.head())        # First rows\n",
    "print(df[\"Age\"].mean()) # Column mean\n",
    "print(df.describe())    # Summary stats\n"
   ]
  },
  {
   "cell_type": "code",
   "execution_count": 4,
   "id": "e34f8c49-c6f8-4806-9602-abfff6ce0a45",
   "metadata": {},
   "outputs": [
    {
     "data": {
      "image/png": "[encoded data removed]",
      "text/plain": [
       "<Figure size 640x480 with 1 Axes>"
      ]
     },
     "metadata": {},
     "output_type": "display_data"
    }
   ],
   "source": [
    "import matplotlib.pyplot as plt\n",
    "\n",
    "x = [1,2,3,4]\n",
    "y = [10,20,25,30]\n",
    "\n",
    "plt.plot(x, y, marker='o')\n",
    "plt.title(\"Line Plot\")\n",
    "plt.xlabel(\"X-axis\")\n",
    "plt.ylabel(\"Y-axis\")\n",
    "plt.show()\n"
   ]
  },
  {
   "cell_type": "code",
   "execution_count": 5,
   "id": "441184bb-d742-4c4a-889f-0f99cdfa01b6",
   "metadata": {},
   "outputs": [
    {
     "ename": "ModuleNotFoundError",
     "evalue": "No module named 'seaborn'",
     "output_type": "error",
     "traceback": [
      "\u001b[1;31m---------------------------------------------------------------------------\u001b[0m",
      "\u001b[1;31mModuleNotFoundError\u001b[0m                       Traceback (most recent call last)",
      "Cell \u001b[1;32mIn[5], line 1\u001b[0m\n\u001b[1;32m----> 1\u001b[0m \u001b[38;5;28;01mimport\u001b[39;00m\u001b[38;5;250m \u001b[39m\u001b[38;5;21;01mseaborn\u001b[39;00m\u001b[38;5;250m \u001b[39m\u001b[38;5;28;01mas\u001b[39;00m\u001b[38;5;250m \u001b[39m\u001b[38;5;21;01msns\u001b[39;00m\n\u001b[0;32m      2\u001b[0m \u001b[38;5;28;01mimport\u001b[39;00m\u001b[38;5;250m \u001b[39m\u001b[38;5;21;01mpandas\u001b[39;00m\u001b[38;5;250m \u001b[39m\u001b[38;5;28;01mas\u001b[39;00m\u001b[38;5;250m \u001b[39m\u001b[38;5;21;01mpd\u001b[39;00m\n\u001b[0;32m      4\u001b[0m df \u001b[38;5;241m=\u001b[39m pd\u001b[38;5;241m.\u001b[39mDataFrame({\u001b[38;5;124m\"\u001b[39m\u001b[38;5;124mCategory\u001b[39m\u001b[38;5;124m\"\u001b[39m: [\u001b[38;5;124m\"\u001b[39m\u001b[38;5;124mA\u001b[39m\u001b[38;5;124m\"\u001b[39m,\u001b[38;5;124m\"\u001b[39m\u001b[38;5;124mA\u001b[39m\u001b[38;5;124m\"\u001b[39m,\u001b[38;5;124m\"\u001b[39m\u001b[38;5;124mB\u001b[39m\u001b[38;5;124m\"\u001b[39m,\u001b[38;5;124m\"\u001b[39m\u001b[38;5;124mB\u001b[39m\u001b[38;5;124m\"\u001b[39m], \u001b[38;5;124m\"\u001b[39m\u001b[38;5;124mValue\u001b[39m\u001b[38;5;124m\"\u001b[39m:[\u001b[38;5;241m10\u001b[39m,\u001b[38;5;241m15\u001b[39m,\u001b[38;5;241m20\u001b[39m,\u001b[38;5;241m25\u001b[39m]})\n",
      "\u001b[1;31mModuleNotFoundError\u001b[0m: No module named 'seaborn'"
     ]
    }
   ],
   "source": [
    "import seaborn as sns\n",
    "import pandas as pd\n",
    "\n",
    "df = pd.DataFrame({\"Category\": [\"A\",\"A\",\"B\",\"B\"], \"Value\":[10,15,20,25]})\n",
    "\n",
    "sns.barplot(x=\"Category\", y=\"Value\", data=df)\n",
    "sns.set_style(\"whitegrid\")\n",
    "plt.show()\n"
   ]
  },
  {
   "cell_type": "code",
   "execution_count": null,
   "id": "38509a62-7efe-4ac8-8176-8b149dd6eda5",
   "metadata": {},
   "outputs": [],
   "source": []
  }
 ],
 "metadata": {
  "kernelspec": {
   "display_name": "Python 3 (ipykernel)",
   "language": "python",
   "name": "python3"
  },
  "language_info": {
   "codemirror_mode": {
    "name": "ipython",
    "version": 3
   },
   "file_extension": ".py",
   "mimetype": "text/x-python",
   "name": "python",
   "nbconvert_exporter": "python",
   "pygments_lexer": "ipython3",
   "version": "3.10.10"
  }
 },
 "nbformat": 4,
 "nbformat_minor": 5
}
